{
 "cells": [
  {
   "cell_type": "markdown",
   "id": "d390d29c",
   "metadata": {},
   "source": [
    "## Create a simple assistant using an LLM and Pydantic\n",
    "\n",
    "Given a product name, it should return:\n",
    "\n",
    "```python\n",
    "Product --> {\n",
    "  product_name: str,\n",
    "  product_details: str,\n",
    "  tentative_price: int | float  # in USD\n",
    "}\n",
    "\n",
    "Use ChatPromptTemplate"
   ]
  },
  {
   "cell_type": "code",
   "execution_count": null,
   "id": "8efce6f8",
   "metadata": {},
   "outputs": [],
   "source": [
    "import os\n",
    "import json\n",
    "from IPython.display import Image, display\n",
    "from typing import Union, List\n",
    "from pydantic import BaseModel, Field\n",
    "from langchain_groq import ChatGroq\n",
    "from langchain_core.prompts import ChatPromptTemplate\n",
    "from langchain_core.output_parsers import PydanticOutputParser\n"
   ]
  },
  {
   "cell_type": "code",
   "execution_count": 2,
   "id": "8f1b31be",
   "metadata": {},
   "outputs": [],
   "source": [
    "# Set the Groq API Key\n",
    "os.environ[\"GROQ_API_KEY\"] = os.getenv(\"GROQ_API_KEY\")\n",
    "\n",
    "# Langsmith tracing and monitoring\n",
    "os.environ[\"LANGCHAIN_API_KEY\"] = os.getenv(\"LANGCHAIN_API_KEY\")\n",
    "os.environ[\"LANGCHAIN_PROJECT\"] = os.getenv(\"LANGCHAIN_PROJECT\") "
   ]
  },
  {
   "cell_type": "code",
   "execution_count": 3,
   "id": "cd53ae34",
   "metadata": {},
   "outputs": [],
   "source": [
    "# Define Pydantic output schema\n",
    "class ProductInfo(BaseModel):\n",
    "    product_name: str = Field(..., description=\"The name of the product\")\n",
    "    product_details: str = Field(..., description=\"A brief description of the product\")\n",
    "    tentative_price: Union[float, int] = Field(..., description=\"The estimated price in USD\")\n"
   ]
  },
  {
   "cell_type": "code",
   "execution_count": 4,
   "id": "6a72a2ba",
   "metadata": {},
   "outputs": [
    {
     "data": {
      "text/plain": [
       "PydanticOutputParser(pydantic_object=<class '__main__.ProductInfo'>)"
      ]
     },
     "execution_count": 4,
     "metadata": {},
     "output_type": "execute_result"
    }
   ],
   "source": [
    "# Create an output parser based on Pydantic\n",
    "output_parser = PydanticOutputParser(pydantic_object=ProductInfo)\n",
    "\n",
    "output_parser\n"
   ]
  },
  {
   "cell_type": "code",
   "execution_count": 5,
   "id": "ca0494db",
   "metadata": {},
   "outputs": [],
   "source": [
    "# Define the system message with a placeholder for the format schema\n",
    "system_messages = \"\"\"\n",
    "You are a tech expert. Your task is to extract structured product information based on the following schema:\n",
    "\n",
    "{format_instruction}\n",
    "\n",
    "Requirements:\n",
    "1. Take the product name provided by the user.\n",
    "2. Return detailed specs like RAM, ROM, Processor, Camera, Battery, Screen Size, and any other relevant information.\n",
    "3. Return a tentative price in USD (must be numeric only).\n",
    "\"\"\"\n",
    "\n",
    "\n",
    "# Create the chat prompt template\n",
    "prompt = ChatPromptTemplate.from_messages([\n",
    "    (\"system\", system_messages),\n",
    "    (\"human\", \"{product_name}\")\n",
    "]).partial(format_instruction=output_parser.get_format_instructions())"
   ]
  },
  {
   "cell_type": "code",
   "execution_count": 6,
   "id": "efde510b",
   "metadata": {},
   "outputs": [
    {
     "data": {
      "text/plain": [
       "ChatGroq(client=<groq.resources.chat.completions.Completions object at 0x10f4f7f20>, async_client=<groq.resources.chat.completions.AsyncCompletions object at 0x10f94e9f0>, model_name='gemma2-9b-it', temperature=1e-08, model_kwargs={}, groq_api_key=SecretStr('**********'))"
      ]
     },
     "execution_count": 6,
     "metadata": {},
     "output_type": "execute_result"
    }
   ],
   "source": [
    "# Load the Groq model\n",
    "model = ChatGroq(\n",
    "    model=\"gemma2-9b-it\",  \n",
    "    temperature=0 # use a low temerature to get somewhat consistent resoonses \n",
    ")\n",
    "model"
   ]
  },
  {
   "cell_type": "code",
   "execution_count": 7,
   "id": "4cb8adf3",
   "metadata": {},
   "outputs": [
    {
     "data": {
      "text/plain": [
       "ChatPromptTemplate(input_variables=['product_name'], input_types={}, partial_variables={'format_instruction': 'The output should be formatted as a JSON instance that conforms to the JSON schema below.\\n\\nAs an example, for the schema {\"properties\": {\"foo\": {\"title\": \"Foo\", \"description\": \"a list of strings\", \"type\": \"array\", \"items\": {\"type\": \"string\"}}}, \"required\": [\"foo\"]}\\nthe object {\"foo\": [\"bar\", \"baz\"]} is a well-formatted instance of the schema. The object {\"properties\": {\"foo\": [\"bar\", \"baz\"]}} is not well-formatted.\\n\\nHere is the output schema:\\n```\\n{\"properties\": {\"product_name\": {\"description\": \"The name of the product\", \"title\": \"Product Name\", \"type\": \"string\"}, \"product_details\": {\"description\": \"A brief description of the product\", \"title\": \"Product Details\", \"type\": \"string\"}, \"tentative_price\": {\"anyOf\": [{\"type\": \"number\"}, {\"type\": \"integer\"}], \"description\": \"The estimated price in USD\", \"title\": \"Tentative Price\"}}, \"required\": [\"product_name\", \"product_details\", \"tentative_price\"]}\\n```'}, messages=[SystemMessagePromptTemplate(prompt=PromptTemplate(input_variables=['format_instruction'], input_types={}, partial_variables={}, template='\\nYou are a tech expert. Your task is to extract structured product information based on the following schema:\\n\\n{format_instruction}\\n\\nRequirements:\\n1. Take the product name provided by the user.\\n2. Return detailed specs like RAM, ROM, Processor, Camera, Battery, Screen Size, and any other relevant information.\\n3. Return a tentative price in USD (must be numeric only).\\n'), additional_kwargs={}), HumanMessagePromptTemplate(prompt=PromptTemplate(input_variables=['product_name'], input_types={}, partial_variables={}, template='{product_name}'), additional_kwargs={})])\n",
       "| ChatGroq(client=<groq.resources.chat.completions.Completions object at 0x10f4f7f20>, async_client=<groq.resources.chat.completions.AsyncCompletions object at 0x10f94e9f0>, model_name='gemma2-9b-it', temperature=1e-08, model_kwargs={}, groq_api_key=SecretStr('**********'))\n",
       "| PydanticOutputParser(pydantic_object=<class '__main__.ProductInfo'>)"
      ]
     },
     "execution_count": 7,
     "metadata": {},
     "output_type": "execute_result"
    }
   ],
   "source": [
    "# Chain: prompt | model | parser\n",
    "chain = prompt | model | output_parser\n",
    "chain"
   ]
  },
  {
   "cell_type": "code",
   "execution_count": 13,
   "id": "8469b896",
   "metadata": {},
   "outputs": [
    {
     "ename": "NameError",
     "evalue": "name 'Image' is not defined",
     "output_type": "error",
     "traceback": [
      "\u001b[31m---------------------------------------------------------------------------\u001b[39m",
      "\u001b[31mNameError\u001b[39m                                 Traceback (most recent call last)",
      "\u001b[36mCell\u001b[39m\u001b[36m \u001b[39m\u001b[32mIn[13]\u001b[39m\u001b[32m, line 1\u001b[39m\n\u001b[32m----> \u001b[39m\u001b[32m1\u001b[39m display(\u001b[43mImage\u001b[49m(chain.get_graph().draw_mermaid_png()))\n",
      "\u001b[31mNameError\u001b[39m: name 'Image' is not defined"
     ]
    }
   ],
   "source": [
    "display(Image(chain.get_graph().draw_mermaid_png()))"
   ]
  },
  {
   "cell_type": "code",
   "execution_count": 8,
   "id": "24733c5a",
   "metadata": {},
   "outputs": [],
   "source": [
    "# Function to get product info\n",
    "def get_product_info(product_name: str) -> ProductInfo:\n",
    "    return chain.invoke({\"product_name\": product_name})"
   ]
  },
  {
   "cell_type": "code",
   "execution_count": 9,
   "id": "88eb28ac",
   "metadata": {},
   "outputs": [],
   "source": [
    "def format_product_info(info: ProductInfo) -> str:\n",
    "    # Convert to dict\n",
    "    data = info.model_dump()\n",
    "    \n",
    "    # Format the price as a USD string\n",
    "    data[\"tentative_price\"] = f\"${data['tentative_price']:,.2f} USD\"\n",
    "    \n",
    "    # Pretty-print JSON string\n",
    "    json_str = json.dumps(data, indent=2)\n",
    "    return json_str\n",
    "\n"
   ]
  },
  {
   "cell_type": "code",
   "execution_count": 10,
   "id": "4b91ff51",
   "metadata": {},
   "outputs": [
    {
     "name": "stdout",
     "output_type": "stream",
     "text": [
      "{\n",
      "  \"product_name\": \"Sony WH-1000XM5\",\n",
      "  \"product_details\": \"Industry-leading noise cancellation, exceptional sound quality, and comfortable fit make these headphones a top choice for audiophiles and everyday listeners.\",\n",
      "  \"tentative_price\": \"$399.99 USD\"\n",
      "}\n"
     ]
    }
   ],
   "source": [
    "# Test on a single product\n",
    "product = \"Sony WH-1000XM5\"\n",
    "try:\n",
    "    info = get_product_info(product)\n",
    "    out = format_product_info(info)\n",
    "    print(out)\n",
    "except Exception as e:\n",
    "    print(f\"Error: {e}\")\n"
   ]
  },
  {
   "cell_type": "code",
   "execution_count": 11,
   "id": "1609e9cb",
   "metadata": {},
   "outputs": [],
   "source": [
    "def run_batch(products: List[str]):\n",
    "    all_infos = []\n",
    "    for p in products:\n",
    "        try:\n",
    "            info = chain.invoke({\"product_name\": p})\n",
    "            formatted = format_product_info(info)\n",
    "            #print(formatted)\n",
    "            all_infos.append(formatted)\n",
    "        except Exception as e:\n",
    "            print(f\"Error processing '{p}': {e}\")\n",
    "    return all_infos \n"
   ]
  },
  {
   "cell_type": "code",
   "execution_count": 12,
   "id": "2195878a",
   "metadata": {},
   "outputs": [
    {
     "name": "stdout",
     "output_type": "stream",
     "text": [
      "{\n",
      "  \"product_name\": \"Sony WH-1000XM5\",\n",
      "  \"product_details\": \"Industry-leading noise cancellation, exceptional sound quality, and comfortable fit make these headphones a top choice for audiophiles and everyday listeners.\",\n",
      "  \"tentative_price\": \"$399.99 USD\"\n",
      "}\n",
      "{\n",
      "  \"product_name\": \"Apple Watch Series 9\",\n",
      "  \"product_details\": \"The Apple Watch Series 9 is a smartwatch with advanced health and fitness tracking features, a bright always-on display, and cellular connectivity options.\",\n",
      "  \"tentative_price\": \"$399.00 USD\"\n",
      "}\n",
      "{\n",
      "  \"product_name\": \"Kindle Paperwhite\",\n",
      "  \"product_details\": \"A lightweight, waterproof e-reader with a sharp 6.8\\u201d display, adjustable warm light, and weeks of battery life.\",\n",
      "  \"tentative_price\": \"$139.99 USD\"\n",
      "}\n",
      "{\n",
      "  \"product_name\": \"Nintendo Switch OLED\",\n",
      "  \"product_details\": \"The Nintendo Switch OLED model features a vibrant 7-inch OLED screen, enhanced audio, a wider adjustable stand, and a dock with a wired LAN port.\",\n",
      "  \"tentative_price\": \"$349.99 USD\"\n",
      "}\n",
      "{\n",
      "  \"product_name\": \"Samsung Galaxy Tab S9\",\n",
      "  \"product_details\": \"The Samsung Galaxy Tab S9 is a premium Android tablet featuring a vibrant display, powerful performance, and advanced camera capabilities.\",\n",
      "  \"tentative_price\": \"$799.99 USD\"\n",
      "}\n"
     ]
    }
   ],
   "source": [
    "# Test on a list of test products\n",
    "test_products = [\n",
    "    \"Sony WH-1000XM5\",\n",
    "    \"Apple Watch Series 9\",\n",
    "    \"Kindle Paperwhite\",\n",
    "    \"Nintendo Switch OLED\",\n",
    "    \"Samsung Galaxy Tab S9\"]\n",
    "\n",
    "results = run_batch(test_products)\n",
    "\n",
    "for product_json in results:\n",
    "    print(product_json)"
   ]
  }
 ],
 "metadata": {
  "kernelspec": {
   "display_name": "assignment",
   "language": "python",
   "name": "python3"
  },
  "language_info": {
   "codemirror_mode": {
    "name": "ipython",
    "version": 3
   },
   "file_extension": ".py",
   "mimetype": "text/x-python",
   "name": "python",
   "nbconvert_exporter": "python",
   "pygments_lexer": "ipython3",
   "version": "3.12.3"
  }
 },
 "nbformat": 4,
 "nbformat_minor": 5
}
