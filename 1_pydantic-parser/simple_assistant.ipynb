{
 "cells": [
  {
   "cell_type": "markdown",
   "id": "d390d29c",
   "metadata": {},
   "source": [
    "## Create a simple assistant using an LLM and Pydantic\n",
    "\n",
    "Given a product name, it should return:\n",
    "\n",
    "```python\n",
    "Product --> {\n",
    "  product_name: str,\n",
    "  product_details: str,\n",
    "  tentative_price: int | float  # in USD\n",
    "}\n",
    "\n",
    "Use ChatPromptTemplate"
   ]
  },
  {
   "cell_type": "code",
   "execution_count": 1,
   "id": "8efce6f8",
   "metadata": {},
   "outputs": [],
   "source": [
    "import os\n",
    "import json\n",
    "from typing import Union, List\n",
    "from pydantic import BaseModel, Field\n",
    "from langchain_groq import ChatGroq\n",
    "from langchain_core.prompts import ChatPromptTemplate\n",
    "from langchain_core.output_parsers import PydanticOutputParser\n"
   ]
  },
  {
   "cell_type": "code",
   "execution_count": 2,
   "id": "8f1b31be",
   "metadata": {},
   "outputs": [],
   "source": [
    "# Set the Groq API Key\n",
    "os.environ[\"GROQ_API_KEY\"] = os.getenv(\"GROQ_API_KEY\")\n",
    "\n",
    "# Langsmith tracing and monitoring\n",
    "os.environ[\"LANGCHAIN_API_KEY\"] = os.getenv(\"LANGCHAIN_API_KEY\")\n",
    "os.environ[\"LANGCHAIN_PROJECT\"] = os.getenv(\"LANGCHAIN_PROJECT\") "
   ]
  },
  {
   "cell_type": "code",
   "execution_count": 3,
   "id": "cd53ae34",
   "metadata": {},
   "outputs": [],
   "source": [
    "# Define Pydantic output schema\n",
    "class ProductInfo(BaseModel):\n",
    "    product_name: str = Field(..., description=\"The name of the product\")\n",
    "    product_details: str = Field(..., description=\"A brief description of the product\")\n",
    "    tentative_price: Union[float, int] = Field(..., description=\"The estimated price in USD\")\n"
   ]
  },
  {
   "cell_type": "code",
   "execution_count": 4,
   "id": "6a72a2ba",
   "metadata": {},
   "outputs": [
    {
     "data": {
      "text/plain": [
       "PydanticOutputParser(pydantic_object=<class '__main__.ProductInfo'>)"
      ]
     },
     "execution_count": 4,
     "metadata": {},
     "output_type": "execute_result"
    }
   ],
   "source": [
    "# Create an output parser based on Pydantic\n",
    "output_parser = PydanticOutputParser(pydantic_object=ProductInfo)\n",
    "\n",
    "output_parser\n"
   ]
  },
  {
   "cell_type": "code",
   "execution_count": 5,
   "id": "49eb3233",
   "metadata": {},
   "outputs": [
    {
     "data": {
      "text/plain": [
       "ChatPromptTemplate(input_variables=['product_name'], input_types={}, partial_variables={}, messages=[HumanMessagePromptTemplate(prompt=PromptTemplate(input_variables=['product_name'], input_types={}, partial_variables={}, template='\\nYou are a helpful product assistant. Given a product name, return a JSON object with:\\n- product_name\\n- product_details\\n- tentative_price ((a number only)\\n\\n\\nDo not include any currency symbols. Just return a number.\\n\\nRespond only with valid JSON that matches this format.\\n\\nProduct: {product_name}\\n'), additional_kwargs={})])"
      ]
     },
     "execution_count": 5,
     "metadata": {},
     "output_type": "execute_result"
    }
   ],
   "source": [
    "# Create the prompt\n",
    "prompt = ChatPromptTemplate.from_template(\n",
    "    \"\"\"\n",
    "You are a helpful product assistant. Given a product name, return a JSON object with:\n",
    "- product_name\n",
    "- product_details\n",
    "- tentative_price ((a number only)\n",
    "\n",
    "\n",
    "Do not include any currency symbols. Just return a number.\n",
    "\n",
    "Respond only with valid JSON that matches this format.\n",
    "\n",
    "Product: {product_name}\n",
    "\"\"\"\n",
    ")\n",
    "\n",
    "prompt"
   ]
  },
  {
   "cell_type": "code",
   "execution_count": 6,
   "id": "efde510b",
   "metadata": {},
   "outputs": [
    {
     "data": {
      "text/plain": [
       "ChatGroq(client=<groq.resources.chat.completions.Completions object at 0x106931040>, async_client=<groq.resources.chat.completions.AsyncCompletions object at 0x10844ef90>, model_name='gemma2-9b-it', temperature=1e-08, model_kwargs={}, groq_api_key=SecretStr('**********'))"
      ]
     },
     "execution_count": 6,
     "metadata": {},
     "output_type": "execute_result"
    }
   ],
   "source": [
    "# Load the Groq model\n",
    "model = ChatGroq(\n",
    "    model=\"gemma2-9b-it\",  \n",
    "    temperature=0 # use a low temerature to get somewhat consistent resoonses \n",
    ")\n",
    "model"
   ]
  },
  {
   "cell_type": "code",
   "execution_count": 7,
   "id": "4cb8adf3",
   "metadata": {},
   "outputs": [
    {
     "data": {
      "text/plain": [
       "ChatPromptTemplate(input_variables=['product_name'], input_types={}, partial_variables={}, messages=[HumanMessagePromptTemplate(prompt=PromptTemplate(input_variables=['product_name'], input_types={}, partial_variables={}, template='\\nYou are a helpful product assistant. Given a product name, return a JSON object with:\\n- product_name\\n- product_details\\n- tentative_price ((a number only)\\n\\n\\nDo not include any currency symbols. Just return a number.\\n\\nRespond only with valid JSON that matches this format.\\n\\nProduct: {product_name}\\n'), additional_kwargs={})])\n",
       "| ChatGroq(client=<groq.resources.chat.completions.Completions object at 0x106931040>, async_client=<groq.resources.chat.completions.AsyncCompletions object at 0x10844ef90>, model_name='gemma2-9b-it', temperature=1e-08, model_kwargs={}, groq_api_key=SecretStr('**********'))\n",
       "| PydanticOutputParser(pydantic_object=<class '__main__.ProductInfo'>)"
      ]
     },
     "execution_count": 7,
     "metadata": {},
     "output_type": "execute_result"
    }
   ],
   "source": [
    "# Chain: prompt | model | parser\n",
    "chain = prompt | model | output_parser\n",
    "chain"
   ]
  },
  {
   "cell_type": "code",
   "execution_count": 8,
   "id": "24733c5a",
   "metadata": {},
   "outputs": [],
   "source": [
    "# Function to get product info\n",
    "def get_product_info(product_name: str) -> ProductInfo:\n",
    "    return chain.invoke({\"product_name\": product_name})"
   ]
  },
  {
   "cell_type": "code",
   "execution_count": null,
   "id": "88eb28ac",
   "metadata": {},
   "outputs": [],
   "source": [
    "def display_product_info(info: ProductInfo) -> str:\n",
    "    # Convert to dict\n",
    "    data = info.model_dump()\n",
    "    \n",
    "    # Format the price as a USD string\n",
    "    data[\"tentative_price\"] = f\"${data['tentative_price']:,.2f} USD\"\n",
    "    \n",
    "    # Pretty-print JSON string\n",
    "    json_str = json.dumps(data, indent=2)\n",
    "    print(json_str)\n",
    "    return json_str\n",
    "\n"
   ]
  },
  {
   "cell_type": "code",
   "execution_count": 13,
   "id": "4b91ff51",
   "metadata": {},
   "outputs": [
    {
     "name": "stdout",
     "output_type": "stream",
     "text": [
      "{\n",
      "  \"product_name\": \"Sony WH-1000XM5\",\n",
      "  \"product_details\": \"Wireless noise-canceling headphones with industry-leading audio quality, advanced features, and comfortable design.\",\n",
      "  \"tentative_price\": \"$350.00 USD\"\n",
      "}\n"
     ]
    }
   ],
   "source": [
    "# Test on a single product\n",
    "product = \"Sony WH-1000XM5\"\n",
    "try:\n",
    "    info = get_product_info(product)\n",
    "    display_product_info(info)\n",
    "except Exception as e:\n",
    "    print(f\"Error: {e}\")\n"
   ]
  },
  {
   "cell_type": "code",
   "execution_count": 23,
   "id": "1609e9cb",
   "metadata": {},
   "outputs": [],
   "source": [
    "def run_batch(products: List[str]):\n",
    "    all_infos = []\n",
    "    for p in products:\n",
    "        try:\n",
    "            info = chain.invoke({\"product_name\": p})\n",
    "            formatted = display_product_info(info)\n",
    "            print(formatted)\n",
    "            all_infos.append(formatted)\n",
    "        except Exception as e:\n",
    "            print(f\"Error processing '{p}': {e}\")\n",
    "    return all_infos \n"
   ]
  },
  {
   "cell_type": "code",
   "execution_count": 24,
   "id": "2195878a",
   "metadata": {},
   "outputs": [
    {
     "name": "stdout",
     "output_type": "stream",
     "text": [
      "{\n",
      "  \"product_name\": \"Sony WH-1000XM5\",\n",
      "  \"product_details\": \"Wireless noise-canceling headphones with industry-leading audio quality, advanced features, and comfortable design.\",\n",
      "  \"tentative_price\": \"$350.00 USD\"\n",
      "}\n",
      "None\n",
      "{\n",
      "  \"product_name\": \"Apple Watch Series 9\",\n",
      "  \"product_details\": \"Latest smartwatch with advanced health and fitness tracking features, cellular connectivity, and a bright always-on display.\",\n",
      "  \"tentative_price\": \"$399.00 USD\"\n",
      "}\n",
      "None\n",
      "{\n",
      "  \"product_name\": \"Kindle Paperwhite\",\n",
      "  \"product_details\": \"A waterproof e-reader with a 6.8\\\" glare-free display, adjustable warm light, and weeks of battery life.\",\n",
      "  \"tentative_price\": \"$140.00 USD\"\n",
      "}\n",
      "None\n",
      "{\n",
      "  \"product_name\": \"Nintendo Switch OLED\",\n",
      "  \"product_details\": \"A premium version of the Nintendo Switch console with a larger, brighter OLED screen, enhanced audio, and a wider adjustable stand.\",\n",
      "  \"tentative_price\": \"$350.00 USD\"\n",
      "}\n",
      "None\n",
      "{\n",
      "  \"product_name\": \"Samsung Galaxy Tab S9\",\n",
      "  \"product_details\": \"Latest Android tablet with powerful processor, stunning display, and S Pen support.\",\n",
      "  \"tentative_price\": \"$799.00 USD\"\n",
      "}\n",
      "None\n",
      "[\n",
      "  null,\n",
      "  null,\n",
      "  null,\n",
      "  null,\n",
      "  null\n",
      "]\n"
     ]
    }
   ],
   "source": [
    "# Test on a list of test products\n",
    "test_products = [\n",
    "    \"Sony WH-1000XM5\",\n",
    "    \"Apple Watch Series 9\",\n",
    "    \"Kindle Paperwhite\",\n",
    "    \"Nintendo Switch OLED\",\n",
    "    \"Samsung Galaxy Tab S9\"]\n",
    "\n",
    "results = run_batch(test_products)\n",
    "print(json.dumps(results, indent=2))"
   ]
  }
 ],
 "metadata": {
  "kernelspec": {
   "display_name": "assignment",
   "language": "python",
   "name": "python3"
  },
  "language_info": {
   "codemirror_mode": {
    "name": "ipython",
    "version": 3
   },
   "file_extension": ".py",
   "mimetype": "text/x-python",
   "name": "python",
   "nbconvert_exporter": "python",
   "pygments_lexer": "ipython3",
   "version": "3.12.3"
  }
 },
 "nbformat": 4,
 "nbformat_minor": 5
}
