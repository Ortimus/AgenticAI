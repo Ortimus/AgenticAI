{
 "cells": [
  {
   "cell_type": "code",
   "execution_count": 1,
   "id": "85e65ceb",
   "metadata": {},
   "outputs": [],
   "source": [
    "import os\n",
    "from dotenv import load_dotenv\n",
    "from langchain_community.document_loaders import PyPDFLoader\n",
    "from langchain_text_splitters import RecursiveCharacterTextSplitter\n",
    "from langchain_google_genai import GoogleGenerativeAIEmbeddings\n",
    "\n",
    "import faiss\n",
    "from langchain_community.vectorstores import FAISS\n",
    "from langchain_community.docstore.in_memory import InMemoryDocstore\n",
    "\n",
    "from IPython.display import Image, display\n"
   ]
  },
  {
   "cell_type": "code",
   "execution_count": 2,
   "id": "f8a8897e",
   "metadata": {},
   "outputs": [],
   "source": [
    "load_dotenv()\n",
    "os.environ['GEMINI_API_KEY']=os.getenv(\"GEMINI_API_KEY\")"
   ]
  },
  {
   "cell_type": "markdown",
   "id": "dcc6aac6",
   "metadata": {},
   "source": [
    "The embedding model and LLM model do not have to be the same or from the same provider (e.g., you can use a Google embedding model and an OpenAI or Mistral LLM). However, they should be conceptually compatible, meaning:\n",
    "\n",
    "Compatibility Guidelines (when mixing embedding model and LLM):\n",
    "\n",
    "\n",
    "- Same or aligned language: Both should support the same language (e.g., English).\n",
    "\n",
    "- Tokenization logic: While not strictly required, embeddings generated with token boundaries similar to those the LLM expects can help semantic similarity comparisons be more meaningful.\n",
    "\n",
    "- Semantic representation quality: The embedding model should generate vectors that capture enough contextual richness for the LLM to reason over."
   ]
  },
  {
   "cell_type": "code",
   "execution_count": 3,
   "id": "734fd924",
   "metadata": {},
   "outputs": [],
   "source": [
    "# Using Google's text-embedding-004 for embeddings and gemini-1.5-flash for LLM — both from Google, ensuring compatibility in tokenization and embedding logic.\n",
    "\n",
    "# We'll load the following pdf document into a vector datastore\n",
    "RAG_LOOKUP_FILE_PATH='data/2024-03-21_AIP_Basic_dtd_3-21-24.pdf'\n",
    "EMBEDDING_MODEL_NAME='models/text-embedding-004'\n",
    "\n",
    "# We'll use this LLM model \n",
    "GENAI_MODEL_NAME='gemini-1.5-flash'\n"
   ]
  },
  {
   "cell_type": "code",
   "execution_count": 4,
   "id": "20a52e7f",
   "metadata": {},
   "outputs": [],
   "source": [
    "# Load PDF \n",
    "loader = PyPDFLoader(RAG_LOOKUP_FILE_PATH)\n",
    "docs = loader.load()"
   ]
  },
  {
   "cell_type": "code",
   "execution_count": 5,
   "id": "28e2f60f",
   "metadata": {},
   "outputs": [
    {
     "data": {
      "text/plain": [
       "[Document(metadata={'producer': 'Adobe Acrobat Pro (32-bit) 23 Paper Capture Plug-in', 'creator': 'BroadVision, Inc.', 'creationdate': '2024-03-11T08:56:26-04:00', 'author': 'Mission Support Services, Policy', 'moddate': '2024-03-25T15:53:46-04:00', 'subject': 'Aeronautical Information Pulication (AIP) 28th Edition', 'title': 'AIP Basic dtd 3-21-24', 'source': 'data/2024-03-21_AIP_Basic_dtd_3-21-24.pdf', 'total_pages': 2075, 'page': 0, 'page_label': '1'}, page_content='AIP \\nAERONAUTICAL INFORMATION PUBLICATION \\nUNITED STATES OF AMERICA \\nTWENTY-EIGHTH EDITION \\n21 MARCH 2024 \\nCONSULT NOTAM FOR LATEST INFORMATION \\nDEPARTMENT OF TRANSPORTATION \\nFEDERAL AVIATION ADMINISTRATION'),\n",
       " Document(metadata={'producer': 'Adobe Acrobat Pro (32-bit) 23 Paper Capture Plug-in', 'creator': 'BroadVision, Inc.', 'creationdate': '2024-03-11T08:56:26-04:00', 'author': 'Mission Support Services, Policy', 'moddate': '2024-03-25T15:53:46-04:00', 'subject': 'Aeronautical Information Pulication (AIP) 28th Edition', 'title': 'AIP Basic dtd 3-21-24', 'source': 'data/2024-03-21_AIP_Basic_dtd_3-21-24.pdf', 'total_pages': 2075, 'page': 1, 'page_label': '2'}, page_content=''),\n",
       " Document(metadata={'producer': 'Adobe Acrobat Pro (32-bit) 23 Paper Capture Plug-in', 'creator': 'BroadVision, Inc.', 'creationdate': '2024-03-11T08:56:26-04:00', 'author': 'Mission Support Services, Policy', 'moddate': '2024-03-25T15:53:46-04:00', 'subject': 'Aeronautical Information Pulication (AIP) 28th Edition', 'title': 'AIP Basic dtd 3-21-24', 'source': 'data/2024-03-21_AIP_Basic_dtd_3-21-24.pdf', 'total_pages': 2075, 'page': 2, 'page_label': '3'}, page_content='AIP \\nAERONAUTICAL INFORMATION PUBLICATION \\nUNITED STATES OF AMERICA \\nPART 1 \\nGENERAL (GEN)'),\n",
       " Document(metadata={'producer': 'Adobe Acrobat Pro (32-bit) 23 Paper Capture Plug-in', 'creator': 'BroadVision, Inc.', 'creationdate': '2024-03-11T08:56:26-04:00', 'author': 'Mission Support Services, Policy', 'moddate': '2024-03-25T15:53:46-04:00', 'subject': 'Aeronautical Information Pulication (AIP) 28th Edition', 'title': 'AIP Basic dtd 3-21-24', 'source': 'data/2024-03-21_AIP_Basic_dtd_3-21-24.pdf', 'total_pages': 2075, 'page': 3, 'page_label': '4'}, page_content=''),\n",
       " Document(metadata={'producer': 'Adobe Acrobat Pro (32-bit) 23 Paper Capture Plug-in', 'creator': 'BroadVision, Inc.', 'creationdate': '2024-03-11T08:56:26-04:00', 'author': 'Mission Support Services, Policy', 'moddate': '2024-03-25T15:53:46-04:00', 'subject': 'Aeronautical Information Pulication (AIP) 28th Edition', 'title': 'AIP Basic dtd 3-21-24', 'source': 'data/2024-03-21_AIP_Basic_dtd_3-21-24.pdf', 'total_pages': 2075, 'page': 4, 'page_label': '5'}, page_content='AIP GEN 0.1−1 \\nUnited States of America 21 MAR 24 \\nPART 1 − GENERAL (GEN) \\nGEN 0. \\nGEN 0.1 Preface \\n1. Name of the Publishing Authority \\n1.1 The United States of America Aeronautical Information Publication (AIP) is published by the authority of \\nthe Federal Aviation Administration. \\n2. Applicable ICAO Documents \\n2.1 The AIP is prepared in accordance with the Standards and Recommended Practices (SARP) of Annex 15 \\nto the Convention on International Civil Aviation and the Aeronautical Information Services Manual (ICAO Doc \\n8126). Charts contained in the AIP are produced in accordance with Annex 4 to the Convention on International \\nCivil Aviation and the Aeronautical Chart Manual (ICAO Doc 8697). Differences from ICAO Standards, \\nRecommended Practices and Procedures are given in subsection GEN 1.7. \\n3. The AIP Structure and Established Regular Amendment Interval \\n3.1 The AIP Structure \\nThe AIP is made up of three Parts; General (GEN), En Route (ENR), and Aerodromes (AD); each divided into \\nsections and subsections as applicable, containing various types of information subjects. \\n3.1.1 PART 1 − General (GEN) \\nPART 1 consists of five sections containing information as briefly described hereafter: \\n3.1.1.1 GEN 0. − Preface; Record of AIP Amendments; Checklist of AIP Pages; and Table of Contents to \\nPART 1. \\n3.1.1.2 GEN 1. National Regulations and Requirements − Designated Authorities; Flights Into or Over U.S. \\nTerritorial Airspace; Entry, Transit, and Departure of Cargo; Aircraft Instruments, Equipment, and Flight \\nDocuments; Summary of National Regulations and International Agreements/Conventions; and Differences \\nfrom ICAO Standards, Recommended Practices, and Procedures. \\n3.1.1.3 GEN 2. Tables and Codes − Measuring System, Time System, and Aircraft Markings; Abbreviations \\nUsed in AIS Publications; Chart Symbols; Location Indicators; List of Radio Navigation Aids; Conversion \\nTables; and Sunrise/Sunset Tables. \\n3.1.1.4 GEN 3. Services − Aeronautical Information Services; Aeronautical Charts; Air Traffic Services; \\nCommunication Service; Meteorological Services; Search and Rescue; and Aircraft Rescue and Fire Fighting \\nCommunications. \\n3.1.1.5 GEN 4. Charges for Aerodromes/Heliports and Air Navigation Services − Fees and Charges; and Air \\nNavigation Facility Charges. \\n3.1.2 PART 2 − En Route (ENR) \\nPART 2 consists of seven sections containing information as briefly described hereafter: \\n3.1.2.1 ENR 0. − Checklist of AIP Pages; and the Table of Contents to PART 2. \\n3.1.2.2 ENR 1. General Rules and Procedures − General Rules; Visual Flight Rules; Instrument Flight Rules; \\nATS Airspace Classification; Holding, Approach, and Departure Procedures; ATS Surveillance Services and \\nFederal Aviation Administration Twenty−Eighth Edition'),\n",
       " Document(metadata={'producer': 'Adobe Acrobat Pro (32-bit) 23 Paper Capture Plug-in', 'creator': 'BroadVision, Inc.', 'creationdate': '2024-03-11T08:56:26-04:00', 'author': 'Mission Support Services, Policy', 'moddate': '2024-03-25T15:53:46-04:00', 'subject': 'Aeronautical Information Pulication (AIP) 28th Edition', 'title': 'AIP Basic dtd 3-21-24', 'source': 'data/2024-03-21_AIP_Basic_dtd_3-21-24.pdf', 'total_pages': 2075, 'page': 5, 'page_label': '6'}, page_content='GEN 0.1−2 AIP \\n21 MAR 24 United States of America \\nProcedures; Altimeter Setting Procedures; Flight Planning; Addressing of Flight Plans for Domestic or \\ninternational Flight Planning; National Security and Interception Procedures; Medical Facts for Pilots; Safety, \\nHazard, and Accident Reports; and Performance−Based Navigation (PBN) and Area Navigation (RNA V). \\n3.1.2.3 ENR 2. Air Traffic Services Airspace. \\n3.1.2.4 ENR 3. ATS Routes − Lower ATS Routes; Upper ATS Routes; Area Navigation Routes; and Other \\nRoutes. \\n3.1.2.5 ENR 4. Navigation Aids/Systems − Navigation Aids − En Route; and Special Navigation Systems. \\n3.1.2.6 ENR 5. Navigation Warnings − Prohibited, Restricted, and Other Areas; Military Exercise and \\nTraining Areas; Bird Migration and Areas with Sensitive Fauna; and Potential Flight Hazards. \\n3.1.2.7 ENR 6. Helicopter Operations − Helicopter IFR Operations; and Special Operations. \\n3.1.2.8 ENR 7. Oceanic Operations − General Procedures; Data Link Procedures; Special Procedures for \\nIn−Flight Contingencies in Oceanic Airspace; Operational Policy 50 NM Lateral Separation; Operational Policy \\nADS−C Distance−Based Separation; North Atlantic (NAT) Oceanic Clearance Procedures; North Atlantic \\n(NAT) Timekeeping Procedures; North Atlantic (NAT) Safety Information; San Juan FIR Customs Procedures; \\nY−Routes; Atlantic High Offshore Airspace Offshor e Routes Supporting Florida Airspace Optimization; \\nReduced Separation Climb/Descent Procedures; and New York Oceanic Control Area (OCA) West Flight Level \\nAllocation. \\n3.1.3 PART 3 − Aerodromes (AD) \\nPART 3 consists of three sections containing information as briefly described hereafter: \\n3.1.3.1 AD 0. − Checklist of AIP Pages; and Table of Contents to PART 3. \\n3.1.3.2 AD 1. Aerodromes − Introduction: Aerodrome Availability. \\n3.1.3.3 AD 2. Aerodromes: Listing of Aerodromes. \\n3.2 Regular Amendment Interval \\nRegular amendments to the AIP will be issued every 6 months on Aeronautical Information Regulation and \\nControl (AIRAC) effective dates listed in TBL GEN 0.1−1. A list of all AIRAC effective dates are contained in \\nTBL GEN 0.1−2. \\nTBL GEN 0.1−1 \\nPublication Schedule \\nNew Edition or \\nAmendment \\nCutoff Date \\nfor Submission \\nEffective Date \\nof Publication \\nTwenty−Eighth \\nEdition 5 OCT 23 21 MAR 24 \\nAmendment 1 21 MAR 24 5 SEP 24 \\nAmendment 2 5 SEP 24 20 FEB 25 \\nAmendment 3 20 FEB 25 7 AUG 25 \\nTwenty−Ninth \\nEdition 7 AUG 25 22 JAN 26 \\nAmendment 1 22 JAN 26 9 JUL 26 \\nAmendment 2 9 JUL 26 24 DEC 26 \\nAmendment 3 24 DEC 26 10 JUN 27 \\nTwenty−Eighth Edition Federal Aviation Administration'),\n",
       " Document(metadata={'producer': 'Adobe Acrobat Pro (32-bit) 23 Paper Capture Plug-in', 'creator': 'BroadVision, Inc.', 'creationdate': '2024-03-11T08:56:26-04:00', 'author': 'Mission Support Services, Policy', 'moddate': '2024-03-25T15:53:46-04:00', 'subject': 'Aeronautical Information Pulication (AIP) 28th Edition', 'title': 'AIP Basic dtd 3-21-24', 'source': 'data/2024-03-21_AIP_Basic_dtd_3-21-24.pdf', 'total_pages': 2075, 'page': 6, 'page_label': '7'}, page_content='AIP GEN 0.1−3 \\nUnited States of America 21 MAR 24 \\nTBL GEN 0.1−2 \\nAIRAC System Effective Dates \\n2024 2025 2026 2027 2028 \\n25 JAN 23 JAN 22 JAN 21 JAN 20 JAN \\n22 FEB 20 FEB 19 FEB 18 FEB 17 FEB \\n21 MAR 20 MAR 19 MAR 18 MAR 16 MAR \\n18 APR 17 APR 16 APR 15 APR 13 APR \\n16 MAY 15 MAY 14 MAY 13 MAY 11 MAY \\n13 JUN 12 JUN 11 JUN 10 JUN 8 JUN \\n11 JUL 10 JUL 9 JUL 8 JUL 6 JUL \\n8 AUG 7 AUG 6 AUG 5 AUG 3 AUG \\n5 SEP 4 SEP 3 SEP 2 SEP 31 AUG \\n3 OCT 2 OCT 1 OCT 30 SEP 28 SEP \\n31 OCT 30 OCT 29 OCT 28 OCT 26 OCT \\n28 NOV 27 NOV 26 NOV 25 NOV 23 NOV \\n26 DEC 25 DEC 24 DEC 23 DEC 21 DEC \\n4. Service to Contact in Case of Detected AIP Errors or Omissions \\n4.1 In the compilation of the AIP, care has been taken to ensure that the information contained therein is accurate \\nand complete. Any errors and omissions which may be detected, as well as any correspondence concerning the \\nAeronautical Information Publication, should be referred to: \\nFAA National Headquarters (FOB−10B) \\nPublications and Administration (AJV−P12) \\nAttn: AIP Editor, Room 5E41NS \\n600 Independence Avenue, SW. \\nWashington, DC 20597 \\nTo submit comments electronically, please email: 9−AJV−P−HQ−Correspondence@faa.gov \\n5. Subscription Information \\n5.1 This publication is distributed electronically to all who subscribe to receive email notifications through the \\nFAA’s website. All organizations are responsible for viewing, downloading, and subscribing to receive email \\nnotifications when changes occur to this order. Subscriptions to air traffic directives can be made through the Air \\nTraffic Plans and Publications website at  https://www .faa.gov/air_traffic/publications/ or directly  via the \\nfollowing link: https://public.govdelivery.com/accounts/USAFAA/subscriber/new?topic_id=USAFAA_39. \\nFederal Aviation Administration Twenty−Eighth Edition'),\n",
       " Document(metadata={'producer': 'Adobe Acrobat Pro (32-bit) 23 Paper Capture Plug-in', 'creator': 'BroadVision, Inc.', 'creationdate': '2024-03-11T08:56:26-04:00', 'author': 'Mission Support Services, Policy', 'moddate': '2024-03-25T15:53:46-04:00', 'subject': 'Aeronautical Information Pulication (AIP) 28th Edition', 'title': 'AIP Basic dtd 3-21-24', 'source': 'data/2024-03-21_AIP_Basic_dtd_3-21-24.pdf', 'total_pages': 2075, 'page': 7, 'page_label': '8'}, page_content=''),\n",
       " Document(metadata={'producer': 'Adobe Acrobat Pro (32-bit) 23 Paper Capture Plug-in', 'creator': 'BroadVision, Inc.', 'creationdate': '2024-03-11T08:56:26-04:00', 'author': 'Mission Support Services, Policy', 'moddate': '2024-03-25T15:53:46-04:00', 'subject': 'Aeronautical Information Pulication (AIP) 28th Edition', 'title': 'AIP Basic dtd 3-21-24', 'source': 'data/2024-03-21_AIP_Basic_dtd_3-21-24.pdf', 'total_pages': 2075, 'page': 8, 'page_label': '9'}, page_content='AIP GEN 0.2−1 \\nUnited States of America 21 MAR 24 \\nGEN 0.2 Record of AIP Amendments \\nAIP Amendments \\nAmendment Number Effective Date Date Inserted Inserted By \\nGEN 0.3 Record of AIP Supplements − Not applicable \\nFederal Aviation Administration Twenty−Eighth Edition'),\n",
       " Document(metadata={'producer': 'Adobe Acrobat Pro (32-bit) 23 Paper Capture Plug-in', 'creator': 'BroadVision, Inc.', 'creationdate': '2024-03-11T08:56:26-04:00', 'author': 'Mission Support Services, Policy', 'moddate': '2024-03-25T15:53:46-04:00', 'subject': 'Aeronautical Information Pulication (AIP) 28th Edition', 'title': 'AIP Basic dtd 3-21-24', 'source': 'data/2024-03-21_AIP_Basic_dtd_3-21-24.pdf', 'total_pages': 2075, 'page': 9, 'page_label': '10'}, page_content='')]"
      ]
     },
     "execution_count": 5,
     "metadata": {},
     "output_type": "execute_result"
    }
   ],
   "source": [
    "# show the first 10 docs\n",
    "docs[:10]"
   ]
  },
  {
   "cell_type": "code",
   "execution_count": 6,
   "id": "b4f6a595",
   "metadata": {},
   "outputs": [],
   "source": [
    "# create a splitter\n",
    "splitter = RecursiveCharacterTextSplitter(\n",
    "    chunk_size=500,#hyperparameter\n",
    "    chunk_overlap=50 #hyperparemeter\n",
    ")"
   ]
  },
  {
   "cell_type": "code",
   "execution_count": 7,
   "id": "f3f2c609",
   "metadata": {},
   "outputs": [
    {
     "data": {
      "text/plain": [
       "10453"
      ]
     },
     "execution_count": 7,
     "metadata": {},
     "output_type": "execute_result"
    }
   ],
   "source": [
    "# split the documents\n",
    "split_docs = splitter.split_documents(docs)\n",
    "len(split_docs)"
   ]
  },
  {
   "cell_type": "code",
   "execution_count": 8,
   "id": "ca2747cd",
   "metadata": {},
   "outputs": [],
   "source": [
    "# Get the embeddings model\n",
    "embeddings = GoogleGenerativeAIEmbeddings(model=EMBEDDING_MODEL_NAME, google_api_key=os.environ[\"GEMINI_API_KEY\"])"
   ]
  },
  {
   "cell_type": "code",
   "execution_count": 9,
   "id": "57fb7ca7",
   "metadata": {},
   "outputs": [
    {
     "name": "stdout",
     "output_type": "stream",
     "text": [
      "Embedding size: 768\n"
     ]
    }
   ],
   "source": [
    "# he GoogleGenerativeAIEmbeddings object from LangChain does not expose the embedding size (i.e., dimensionality) directly as an attribute like .embedding_size.\n",
    "# However, you can programmatically determine it by running a quick dummy embedding and checking the length of the result\n",
    "\n",
    "embedding_dim = len(embeddings.embed_query(\"test\"))\n",
    "print(f\"Embedding size: {embedding_dim}\")"
   ]
  },
  {
   "cell_type": "code",
   "execution_count": 10,
   "id": "956740a3",
   "metadata": {},
   "outputs": [],
   "source": [
    "# Create the vector store \n",
    "# (InMemory store in FAISS)\n",
    "\n",
    "index=faiss.IndexFlatL2(embedding_dim)\n",
    "\n",
    "#vectorstore = FAISS.from_documents(split_docs, embeddings)\n",
    "\n",
    "vector_store=FAISS(\n",
    "    embedding_function=embeddings,\n",
    "    index=index,\n",
    "    docstore=InMemoryDocstore(),\n",
    "    index_to_docstore_id={},\n",
    ")\n",
    "\n",
    "retriever = vector_store.as_retriever()"
   ]
  },
  {
   "cell_type": "code",
   "execution_count": 11,
   "id": "0757cbf1",
   "metadata": {},
   "outputs": [
    {
     "data": {
      "text/plain": [
       "['069c6dd4-7da1-4022-b39e-75be5b2e098f',\n",
       " '90acda33-9f08-4c12-a4ff-0ab15552d66e',\n",
       " '3ce3169b-4a0e-476f-9a19-1dbe0a486a75',\n",
       " 'eba2e0c0-3544-4487-b942-752a82f79576',\n",
       " '9a4ecc86-2cb7-4cb8-85a1-c9e868663c85',\n",
       " '58b37e3e-6b4a-4d00-885c-126ed70d8668',\n",
       " 'b8448c49-6653-43a1-9acc-9e8cebaabf8a',\n",
       " 'a3332521-efaa-4dcc-9705-9806c77a31ad',\n",
       " '18f21b78-00f9-4a3a-9160-d1e26b245b46',\n",
       " 'af2587ab-8559-4b08-a5d1-949126b23c00']"
      ]
     },
     "execution_count": 11,
     "metadata": {},
     "output_type": "execute_result"
    }
   ],
   "source": [
    "ids = vector_store.add_documents(split_docs)\n",
    "\n",
    "# display the first 10 ids\n",
    "ids[:10]"
   ]
  },
  {
   "cell_type": "code",
   "execution_count": 12,
   "id": "bb40b6ac",
   "metadata": {},
   "outputs": [
    {
     "data": {
      "text/plain": [
       "{1: '90acda33-9f08-4c12-a4ff-0ab15552d66e',\n",
       " 2: '3ce3169b-4a0e-476f-9a19-1dbe0a486a75',\n",
       " 3: 'eba2e0c0-3544-4487-b942-752a82f79576',\n",
       " 4: '9a4ecc86-2cb7-4cb8-85a1-c9e868663c85',\n",
       " 5: '58b37e3e-6b4a-4d00-885c-126ed70d8668',\n",
       " 6: 'b8448c49-6653-43a1-9acc-9e8cebaabf8a',\n",
       " 7: 'a3332521-efaa-4dcc-9705-9806c77a31ad',\n",
       " 8: '18f21b78-00f9-4a3a-9160-d1e26b245b46',\n",
       " 9: 'af2587ab-8559-4b08-a5d1-949126b23c00'}"
      ]
     },
     "execution_count": 12,
     "metadata": {},
     "output_type": "execute_result"
    }
   ],
   "source": [
    "from itertools import islice\n",
    "\n",
    "def slice_dict(d, start, stop):\n",
    "    return dict(islice(d.items(), start, stop))\n",
    "\n",
    "slice_dict(vector_store.index_to_docstore_id,1,10)"
   ]
  },
  {
   "cell_type": "markdown",
   "id": "066e1d80",
   "metadata": {},
   "source": [
    "## Now we'll create the RAG Chain and Non-RAG Chain"
   ]
  },
  {
   "cell_type": "code",
   "execution_count": 13,
   "id": "434ff183",
   "metadata": {},
   "outputs": [],
   "source": [
    "from langchain_google_genai import ChatGoogleGenerativeAI\n",
    "from langchain import hub\n",
    "from langchain_core.output_parsers import StrOutputParser\n",
    "from langchain_core.runnables import RunnablePassthrough\n"
   ]
  },
  {
   "cell_type": "code",
   "execution_count": 14,
   "id": "fc33d90e",
   "metadata": {},
   "outputs": [],
   "source": [
    "# Model\n",
    "model = ChatGoogleGenerativeAI(model=GENAI_MODEL_NAME, google_api_key=os.environ['GEMINI_API_KEY'])\n"
   ]
  },
  {
   "cell_type": "code",
   "execution_count": 15,
   "id": "b06581e6",
   "metadata": {},
   "outputs": [
    {
     "data": {
      "text/plain": [
       "ChatGoogleGenerativeAI(model='models/gemini-1.5-flash', google_api_key=SecretStr('**********'), client=<google.ai.generativelanguage_v1beta.services.generative_service.client.GenerativeServiceClient object at 0x16bd48aa0>, default_metadata=(), model_kwargs={})"
      ]
     },
     "execution_count": 15,
     "metadata": {},
     "output_type": "execute_result"
    }
   ],
   "source": [
    "model"
   ]
  },
  {
   "cell_type": "code",
   "execution_count": 16,
   "id": "63d59cbc",
   "metadata": {},
   "outputs": [],
   "source": [
    "# Prompt template from LangChain Hub\n",
    "prompt = hub.pull(\"rlm/rag-prompt\")"
   ]
  },
  {
   "cell_type": "code",
   "execution_count": 17,
   "id": "aa020cfd",
   "metadata": {},
   "outputs": [],
   "source": [
    "# Output parsing\n",
    "parser = StrOutputParser()"
   ]
  },
  {
   "cell_type": "code",
   "execution_count": 18,
   "id": "b0cac413",
   "metadata": {},
   "outputs": [],
   "source": [
    "# Formatter\n",
    "def format_docs(docs):\n",
    "    return \"\\n\\n\".join(doc.page_content for doc in docs)"
   ]
  },
  {
   "cell_type": "code",
   "execution_count": 19,
   "id": "0b0d7d6b",
   "metadata": {},
   "outputs": [
    {
     "data": {
      "image/png": "[encoded data removed]",
      "text/plain": [
       "<IPython.core.display.Image object>"
      ]
     },
     "metadata": {},
     "output_type": "display_data"
    }
   ],
   "source": [
    "# RAG chain\n",
    "rag_chain = (\n",
    "    {\"context\": retriever | format_docs, \"question\": RunnablePassthrough()}\n",
    "    | prompt\n",
    "    | model\n",
    "    | parser\n",
    ")\n",
    "\n",
    "# display the chain\n",
    "display(Image(rag_chain.get_graph().draw_mermaid_png()))"
   ]
  },
  {
   "cell_type": "code",
   "execution_count": 20,
   "id": "590d7ae2",
   "metadata": {},
   "outputs": [
    {
     "data": {
      "image/png": "[encoded data removed]",
      "text/plain": [
       "<IPython.core.display.Image object>"
      ]
     },
     "metadata": {},
     "output_type": "display_data"
    }
   ],
   "source": [
    "# Non-RAG chain\n",
    "from langchain_core.prompts import ChatPromptTemplate\n",
    "base_prompt = ChatPromptTemplate.from_template(\"Answer the following question: {question}\")\n",
    "non_rag_chain = (\n",
    "    base_prompt\n",
    "    | model\n",
    "    | parser\n",
    ")\n",
    "\n",
    "# display the chain\n",
    "display(Image(non_rag_chain.get_graph().draw_mermaid_png()))"
   ]
  },
  {
   "cell_type": "code",
   "execution_count": 21,
   "id": "96fa4aef",
   "metadata": {},
   "outputs": [
    {
     "name": "stdout",
     "output_type": "stream",
     "text": [
      "\n",
      "What does the equipment code 'Z' signify in Item 10a of the ICAO flight plan?\n",
      "=== Non-RAG Output ===\n",
      "In ICAO flight plans, the equipment code 'Z' in Item 10a signifies that the aircraft is **equipped with a transponder with altitude reporting capability**.\n",
      "\n",
      "=== RAG Output ===\n",
      "In Item 10a of the ICAO flight plan, 'Z' signifies that other equipment or capabilities are carried.  These must be specified in Item 18, preceded by COM/, NAV/, and/or DAT as appropriate.  'Z' itself doesn't define the specific equipment.\n",
      "====================================================================================================\n",
      "\n",
      "What PBN codes are required for filing an RNP 1 SID in the U.S.?\n",
      "=== Non-RAG Output ===\n",
      "There isn't a single, universally applicable set of PBN codes specifically for filing an RNP 1 SID in the U.S.  The required PBN codes depend on the specific SID's design and the navigational aids used.  An RNP 1 SID might utilize various PBN approaches, including:\n",
      "\n",
      "* **RNAV (RNP) 1:** This is the basic designation, but it doesn't specify the underlying navigation technology.\n",
      "* **GPS:**  If the SID uses GPS as the primary navigation source.\n",
      "* **RNAV (GNSS):**  A more general term encompassing various GNSS technologies, including GPS.\n",
      "* **Other PBN approaches:**  The SID might use other approaches, such as LPV, LNAV/VNAV, or even a combination.\n",
      "\n",
      "Therefore, you need to **consult the specific chart for the RNP 1 SID in question**. The chart will list the required navigation specifications and any relevant PBN codes.  You won't find a blanket answer; it's chart-specific.\n",
      "\n",
      "=== RAG Output ===\n",
      "For RNP 1 SIDs in the U.S., the required PBN codes are GNSS GR O2 (if GNSS only) and GNSS DGIR O1 (if GNSS is primary and DME/DME/IRU is backup).  Additional codes may be required depending on the specific SID.\n",
      "====================================================================================================\n",
      "\n",
      "What are the FAA's guidelines for UAS operators regarding flight service briefings?\n",
      "=== Non-RAG Output ===\n",
      "The FAA doesn't mandate flight service briefings (FSBs) for UAS (Unmanned Aircraft System) operations in the same way they do for manned aircraft.  There's no regulation explicitly requiring a UAS operator to obtain an FSB before each flight.\n",
      "\n",
      "However, obtaining a briefing is **strongly recommended**, especially for complex operations or flights in challenging conditions.  An FSB can provide valuable information relevant to safe UAS operation, such as:\n",
      "\n",
      "* **Weather:**  Crucial for assessing wind speed, visibility, precipitation, and other weather phenomena that can impact UAS flight safety.\n",
      "* **NOTAMs (Notices to Airmen):**  Alerts about temporary flight restrictions (TFRs), airport closures, construction, or other hazards in the airspace.  This is particularly important for avoiding conflicts with manned aircraft.\n",
      "* **Airspace information:**  Understanding the type of airspace the UAS will be operating in (e.g., Class G, Class B) and any associated restrictions.\n",
      "\n",
      "\n",
      "While not mandatory, using an FSB demonstrates a proactive approach to safety and responsible operation, aligning with the FAA's overall emphasis on safe and responsible UAS operations.  Operators should consider the complexity of their flight and the environment when deciding whether an FSB is necessary.  The information gained can significantly improve situational awareness and contribute to a safer flight.\n",
      "\n",
      "=== RAG Output ===\n",
      "The provided text focuses on pilot briefings, not UAS operator briefings.  It does not offer guidance on FAA requirements for UAS flight service briefings.  Therefore, I don't know the answer.\n",
      "====================================================================================================\n"
     ]
    }
   ],
   "source": [
    "question1 = \"What does the equipment code 'Z' signify in Item 10a of the ICAO flight plan?\"\n",
    "##question=\"How should a delay in departure be communicated in an ICAO flight plan filed with the FAA?\"\n",
    "question2=\"What PBN codes are required for filing an RNP 1 SID in the U.S.?\"\n",
    "question3=\"What are the FAA's guidelines for UAS operators regarding flight service briefings?\"\n",
    "\n",
    "questions = [question1, question2, question3]\n",
    "for question in questions:\n",
    "    print(\"\\n\"+question)\n",
    "    print(\"=== Non-RAG Output ===\")\n",
    "    print(non_rag_chain.invoke({\"question\": question}))\n",
    "\n",
    "    print(\"\\n=== RAG Output ===\")\n",
    "    print(rag_chain.invoke(question))\n",
    "\n",
    "    print(\"=\"*100)\n"
   ]
  }
 ],
 "metadata": {
  "kernelspec": {
   "display_name": "assignment",
   "language": "python",
   "name": "python3"
  },
  "language_info": {
   "codemirror_mode": {
    "name": "ipython",
    "version": 3
   },
   "file_extension": ".py",
   "mimetype": "text/x-python",
   "name": "python",
   "nbconvert_exporter": "python",
   "pygments_lexer": "ipython3",
   "version": "3.12.3"
  }
 },
 "nbformat": 4,
 "nbformat_minor": 5
}
